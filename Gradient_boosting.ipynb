{
  "nbformat": 4,
  "nbformat_minor": 0,
  "metadata": {
    "colab": {
      "private_outputs": true,
      "provenance": []
    },
    "kernelspec": {
      "name": "python3",
      "display_name": "Python 3"
    },
    "language_info": {
      "name": "python"
    }
  },
  "cells": [
    {
      "cell_type": "code",
      "execution_count": null,
      "metadata": {
        "id": "laOLuAaVJfOL"
      },
      "outputs": [],
      "source": [
        "import numpy as np\n",
        "import matplotlib.pyplot as plt\n"
      ]
    },
    {
      "cell_type": "code",
      "source": [
        "np.random.seed(42)\n",
        "x = np.random.rand(100,1) -  0.5\n",
        "y =  3 * x[:, 0]**2 + 0.05 * np.random.rand(100)"
      ],
      "metadata": {
        "id": "JM2FTq8dJr5y"
      },
      "execution_count": null,
      "outputs": []
    },
    {
      "cell_type": "code",
      "source": [
        "import pandas as pd\n",
        "df = pd.DataFrame()\n",
        "df['X'] = x.reshape(100)\n",
        "df['y'] = y"
      ],
      "metadata": {
        "id": "o-7ErIQqKECj"
      },
      "execution_count": null,
      "outputs": []
    },
    {
      "cell_type": "code",
      "source": [
        "df.head()\n"
      ],
      "metadata": {
        "id": "nJJH7DckKTUK"
      },
      "execution_count": null,
      "outputs": []
    },
    {
      "cell_type": "code",
      "source": [
        "plt.scatter(df['X'],df['y'])"
      ],
      "metadata": {
        "id": "xzgond1iKaa9"
      },
      "execution_count": null,
      "outputs": []
    },
    {
      "cell_type": "markdown",
      "source": [
        "Step1 : Compute the mean of target variable here is 'y'\n"
      ],
      "metadata": {
        "id": "bBZNasTBKn3f"
      }
    },
    {
      "cell_type": "code",
      "source": [
        "df['pred1'] = df['y'].mean()"
      ],
      "metadata": {
        "id": "GKLs-Jh0Kt_R"
      },
      "execution_count": null,
      "outputs": []
    },
    {
      "cell_type": "code",
      "source": [
        "df.head()"
      ],
      "metadata": {
        "id": "oIN6TLGnK0UO"
      },
      "execution_count": null,
      "outputs": []
    },
    {
      "cell_type": "markdown",
      "source": [
        "Step2 : calculate Peseudo Residual"
      ],
      "metadata": {
        "id": "I9_3K2I-K30O"
      }
    },
    {
      "cell_type": "code",
      "source": [
        "df['res1'] = df['y'] - df['pred1']"
      ],
      "metadata": {
        "id": "PJEixU9nK28L"
      },
      "execution_count": null,
      "outputs": []
    },
    {
      "cell_type": "code",
      "source": [
        "df.head(2)"
      ],
      "metadata": {
        "id": "bSMMtA2wLBML"
      },
      "execution_count": null,
      "outputs": []
    },
    {
      "cell_type": "code",
      "source": [
        "plt.scatter(df['X'],df['y'])\n",
        "plt.plot(df['X'],df['pred1'],color='red')"
      ],
      "metadata": {
        "id": "QK33eXTkLDiy"
      },
      "execution_count": null,
      "outputs": []
    },
    {
      "cell_type": "markdown",
      "source": [
        "Step 3: Build A Decision Tree with Help X and Pred1(Residual)"
      ],
      "metadata": {
        "id": "SHofhUcsLjBh"
      }
    },
    {
      "cell_type": "code",
      "source": [
        "from sklearn.tree import DecisionTreeRegressor\n",
        "tree1 =  DecisionTreeRegressor(max_leaf_nodes=8)"
      ],
      "metadata": {
        "id": "HdBBd9AcLiEP"
      },
      "execution_count": null,
      "outputs": []
    },
    {
      "cell_type": "code",
      "source": [
        "tree1.fit(df['X'].values.reshape(100,1),df['res1'].values)"
      ],
      "metadata": {
        "id": "LyU2pPH6L5H_"
      },
      "execution_count": null,
      "outputs": []
    },
    {
      "cell_type": "code",
      "source": [
        "from sklearn.tree import plot_tree\n",
        "plot_tree(tree1)\n",
        "plt.show()"
      ],
      "metadata": {
        "id": "4FyDQ04_MRMt"
      },
      "execution_count": null,
      "outputs": []
    },
    {
      "cell_type": "markdown",
      "source": [
        "Step4 : we need M1 + M2\n",
        "\n"
      ],
      "metadata": {
        "id": "HC4PBQHkM8DB"
      }
    },
    {
      "cell_type": "code",
      "source": [
        "X_test = np.linspace(-0.5,0.5,500)"
      ],
      "metadata": {
        "id": "7MUMuUCDM7og"
      },
      "execution_count": null,
      "outputs": []
    },
    {
      "cell_type": "code",
      "source": [
        "previous_model = 0.265458"
      ],
      "metadata": {
        "id": "ceZigHmrNSfn"
      },
      "execution_count": null,
      "outputs": []
    },
    {
      "cell_type": "code",
      "source": [
        "y_pred = previous_model +  tree1.predict(X_test.reshape(500,1))"
      ],
      "metadata": {
        "id": "oXFy07X8Mi0E"
      },
      "execution_count": null,
      "outputs": []
    },
    {
      "cell_type": "code",
      "source": [
        "plt.plot(X_test,y_pred, linewidth=2, color='red')\n",
        "plt.scatter(df['X'],df['y'])"
      ],
      "metadata": {
        "id": "rMzfar5DMexg"
      },
      "execution_count": null,
      "outputs": []
    },
    {
      "cell_type": "code",
      "source": [
        "df"
      ],
      "metadata": {
        "id": "zHr8QzfJNyDp"
      },
      "execution_count": null,
      "outputs": []
    },
    {
      "cell_type": "code",
      "source": [
        "df['pred2'] = previous_model + tree1.predict(df['X'].values.reshape(100,1))"
      ],
      "metadata": {
        "id": "RAjSdfNoOL6O"
      },
      "execution_count": null,
      "outputs": []
    },
    {
      "cell_type": "code",
      "source": [
        "df"
      ],
      "metadata": {
        "id": "dfDOIsYQOWKM"
      },
      "execution_count": null,
      "outputs": []
    },
    {
      "cell_type": "code",
      "source": [],
      "metadata": {
        "id": "6NSgRHUtPqoe"
      },
      "execution_count": null,
      "outputs": []
    },
    {
      "cell_type": "code",
      "source": [
        "df['res2'] = df['y'] - df['pred2']"
      ],
      "metadata": {
        "id": "Gjtz5veMOYck"
      },
      "execution_count": null,
      "outputs": []
    },
    {
      "cell_type": "code",
      "source": [
        "df.head()"
      ],
      "metadata": {
        "id": "Tft4TQ4fOefa"
      },
      "execution_count": null,
      "outputs": []
    },
    {
      "cell_type": "code",
      "source": [
        "tree2 =  DecisionTreeRegressor(max_leaf_nodes=8)\n",
        "\n",
        "tree2.fit(df['X'].values.reshape(100,1),df['res2'].values)"
      ],
      "metadata": {
        "id": "H7-mmEYbOlkF"
      },
      "execution_count": null,
      "outputs": []
    },
    {
      "cell_type": "code",
      "source": [
        "df['pred3'] = previous_model + tree2.predict(df['X'].values.reshape(100,1))"
      ],
      "metadata": {
        "id": "dS-OzD1rQHoN"
      },
      "execution_count": null,
      "outputs": []
    },
    {
      "cell_type": "code",
      "source": [
        "df.head(1)"
      ],
      "metadata": {
        "id": "Rq-4qNCKQLa-"
      },
      "execution_count": null,
      "outputs": []
    },
    {
      "cell_type": "code",
      "source": [
        "df['res3'] = df['y'] - df['pred3']"
      ],
      "metadata": {
        "id": "0IY60vVNQO0v"
      },
      "execution_count": null,
      "outputs": []
    },
    {
      "cell_type": "code",
      "source": [
        "tree3 =  DecisionTreeRegressor(max_leaf_nodes=5)\n",
        "\n",
        "tree3.fit(df['X'].values.reshape(100,1),df['res3'].values)"
      ],
      "metadata": {
        "id": "Q8ux0poHQSv-"
      },
      "execution_count": null,
      "outputs": []
    },
    {
      "cell_type": "code",
      "source": [
        "y_pred1 = previous_model+sum(regressor.predict(X_test.reshape(-1, 1)) for regressor in [tree1,tree2])"
      ],
      "metadata": {
        "id": "9vErljeJOrvi"
      },
      "execution_count": null,
      "outputs": []
    },
    {
      "cell_type": "code",
      "source": [],
      "metadata": {
        "id": "YAhf4b2WQBm2"
      },
      "execution_count": null,
      "outputs": []
    },
    {
      "cell_type": "code",
      "source": [
        "plt.figure(figsize=(14,4))\n",
        "plt.subplot(121)\n",
        "plt.plot(X_test, y_pred1, linewidth=2,color='red')\n",
        "plt.scatter(df['X'],df['y'])\n",
        "plt.title('X vs y')"
      ],
      "metadata": {
        "id": "lkz7LIbvPNFw"
      },
      "execution_count": null,
      "outputs": []
    },
    {
      "cell_type": "code",
      "source": [
        "y_pred2 = previous_model+sum(regressor.predict(X_test.reshape(-1, 1)) for regressor in [tree1,tree2])"
      ],
      "metadata": {
        "id": "e6rC7WMWTDMX"
      },
      "execution_count": null,
      "outputs": []
    },
    {
      "cell_type": "code",
      "source": [
        "plt.figure(figsize=(14,4))\n",
        "plt.subplot(121)\n",
        "plt.plot(X_test, y_pred2, linewidth=2,color='red')\n",
        "plt.scatter(df['X'],df['y'])\n",
        "plt.title('X vs y')"
      ],
      "metadata": {
        "id": "8fwPXi0lTGSg"
      },
      "execution_count": null,
      "outputs": []
    },
    {
      "cell_type": "code",
      "source": [
        "import matplotlib.pyplot as plt\n",
        "import numpy as np\n",
        "\n",
        "from sklearn import datasets, ensemble\n",
        "from sklearn.inspection import permutation_importance\n",
        "from sklearn.metrics import mean_squared_error\n",
        "from sklearn.model_selection import train_test_split"
      ],
      "metadata": {
        "id": "mqOMlEWJTiSp"
      },
      "execution_count": null,
      "outputs": []
    },
    {
      "cell_type": "code",
      "source": [
        "diabetes = datasets.load_diabetes()\n",
        "X, y = diabetes.data, diabetes.target"
      ],
      "metadata": {
        "id": "vVcZt4pyTi5_"
      },
      "execution_count": null,
      "outputs": []
    },
    {
      "cell_type": "code",
      "source": [
        "X_train, X_test, y_train, y_test = train_test_split(\n",
        "    X, y, test_size=0.1, random_state=13\n",
        ")\n",
        "\n",
        "params = {\n",
        "    \"n_estimators\": 10000,\n",
        "    \"max_depth\": 4,\n",
        "    \"min_samples_split\": 5,\n",
        "    \"learning_rate\": 0.01,\n",
        "    \"loss\": \"squared_error\",\n",
        "    \"verbose\": 1\n",
        "}"
      ],
      "metadata": {
        "id": "qLCqOVF-TpSu"
      },
      "execution_count": null,
      "outputs": []
    },
    {
      "cell_type": "code",
      "source": [
        "reg1 = ensemble.GradientBoostingRegressor(**params)\n",
        "reg1.fit(X_train, y_train)\n",
        "\n",
        "mse = mean_squared_error(y_test, reg1.predict(X_test))\n",
        "print(\"The mean squared error (MSE) on test set: {:.4f}\".format(mse))"
      ],
      "metadata": {
        "id": "22jZWlO8TyAO"
      },
      "execution_count": null,
      "outputs": []
    },
    {
      "cell_type": "code",
      "source": [
        "# Assuming `reg` is already trained\n",
        "train_predictions = reg1.predict(X_train)\n",
        "train_mse = mean_squared_error(y_train, train_predictions)\n",
        "train_rmse = np.sqrt(train_mse)\n",
        "\n",
        "print(\"The root mean squared error (RMSE) on training set: {:.4f}\".format(train_rmse))\n",
        "print(\"The mean squared error (MSE) on test set: {:.4f}\".format(mse))\n",
        "\n",
        "# Assessing Overfitting or Underfitting\n",
        "if train_rmse < mse:\n",
        "    print(\"The model is potentially underfitting.\")\n",
        "elif train_rmse > mse:\n",
        "    print(\"The model is potentially overfitting.\")\n",
        "else:\n",
        "    print(\"The model is balanced.\")"
      ],
      "metadata": {
        "id": "LTZ-cybUUaIy"
      },
      "execution_count": null,
      "outputs": []
    },
    {
      "cell_type": "code",
      "source": [
        "# Calculate RMSE for test set\n",
        "rmse = np.sqrt(mse)\n",
        "print(\"The root mean squared error (RMSE) on test set: {:.4f}\".format(rmse))\n",
        "\n",
        "# Calculate RMSE for training set\n",
        "train_rmse = np.sqrt(train_mse)\n",
        "print(\"The root mean squared error (RMSE) on training set: {:.4f}\".format(train_rmse))"
      ],
      "metadata": {
        "id": "spW7nbZfVCIt"
      },
      "execution_count": null,
      "outputs": []
    },
    {
      "cell_type": "code",
      "source": [
        "test_score = np.zeros((params[\"n_estimators\"],), dtype=np.float64)\n",
        "for i, y_pred in enumerate(reg.staged_predict(X_test)):\n",
        "    test_score[i] = mean_squared_error(y_test, y_pred)\n",
        "\n",
        "fig = plt.figure(figsize=(6, 6))\n",
        "plt.subplot(1, 1, 1)\n",
        "plt.title(\"Deviance\")\n",
        "plt.plot(\n",
        "    np.arange(params[\"n_estimators\"]) + 1,\n",
        "    reg.train_score_,\n",
        "    \"b-\",\n",
        "    label=\"Training Set Deviance\",\n",
        ")\n",
        "plt.plot(\n",
        "    np.arange(params[\"n_estimators\"]) + 1, test_score, \"r-\", label=\"Test Set Deviance\"\n",
        ")\n",
        "plt.legend(loc=\"upper right\")\n",
        "plt.xlabel(\"Boosting Iterations\")\n",
        "plt.ylabel(\"Deviance\")\n",
        "fig.tight_layout()\n",
        "plt.show()"
      ],
      "metadata": {
        "id": "wB00SML3T2VR"
      },
      "execution_count": null,
      "outputs": []
    },
    {
      "cell_type": "code",
      "source": [
        "feature_importance = reg.feature_importances_\n",
        "sorted_idx = np.argsort(feature_importance)\n",
        "pos = np.arange(sorted_idx.shape[0]) + 0.5\n",
        "fig = plt.figure(figsize=(12, 6))\n",
        "plt.subplot(1, 2, 1)\n",
        "plt.barh(pos, feature_importance[sorted_idx], align=\"center\")\n",
        "plt.yticks(pos, np.array(diabetes.feature_names)[sorted_idx])\n",
        "plt.title(\"Feature Importance (MDI)\")\n",
        "\n",
        "result = permutation_importance(\n",
        "    reg, X_test, y_test, n_repeats=10, random_state=42, n_jobs=2\n",
        ")\n",
        "sorted_idx = result.importances_mean.argsort()\n",
        "plt.subplot(1, 2, 2)\n",
        "plt.boxplot(\n",
        "    result.importances[sorted_idx].T,\n",
        "    vert=False,\n",
        "    labels=np.array(diabetes.feature_names)[sorted_idx],\n",
        ")\n",
        "plt.title(\"Permutation Importance (test set)\")\n",
        "fig.tight_layout()\n",
        "plt.show()"
      ],
      "metadata": {
        "id": "nvgweNZZULXw"
      },
      "execution_count": null,
      "outputs": []
    }
  ]
}